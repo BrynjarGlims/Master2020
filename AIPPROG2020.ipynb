{
  "nbformat": 4,
  "nbformat_minor": 0,
  "metadata": {
    "colab": {
      "name": "AIPPROG2020.ipynb",
      "provenance": [],
      "authorship_tag": "ABX9TyOcPyOykl2e04wE3YBWb57a",
      "include_colab_link": true
    },
    "kernelspec": {
      "name": "python3",
      "display_name": "Python 3"
    }
  },
  "cells": [
    {
      "cell_type": "markdown",
      "metadata": {
        "id": "view-in-github",
        "colab_type": "text"
      },
      "source": [
        "<a href=\"https://colab.research.google.com/github/BrynjarGlims/Master2020/blob/master/AIPPROG2020.ipynb\" target=\"_parent\"><img src=\"https://colab.research.google.com/assets/colab-badge.svg\" alt=\"Open In Colab\"/></a>"
      ]
    },
    {
      "cell_type": "code",
      "metadata": {
        "id": "2ycNfdnRZwM8",
        "colab_type": "code",
        "colab": {
          "base_uri": "https://localhost:8080/",
          "height": 68
        },
        "outputId": "e16b65a8-b4c1-40aa-ef4f-372323f56813"
      },
      "source": [
        "#Imports:\n",
        "from getpass import getpass\n",
        "import os\n",
        "\n",
        "# Step 1. Clone github project. Insert Username and Password after running this command line\n",
        "user = getpass(\"Username: \")\n",
        "password = getpass(\"Password: \")\n",
        "os.environ['USER_AUTH'] = user + ':' + password\n",
        "\n",
        "#Clone project using unix. ! starts an unix statement\n",
        "!git clone https://$USER_AUTH@github.com/Petter22/AIProg.git\n"
      ],
      "execution_count": 9,
      "outputs": [
        {
          "output_type": "stream",
          "text": [
            "Username: ··········\n",
            "Password: ··········\n",
            "fatal: destination path 'AIProg' already exists and is not an empty directory.\n"
          ],
          "name": "stdout"
        }
      ]
    },
    {
      "cell_type": "code",
      "metadata": {
        "id": "75ZwkFGTaDVq",
        "colab_type": "code",
        "colab": {
          "base_uri": "https://localhost:8080/",
          "height": 408
        },
        "outputId": "82185dcd-4a3a-4aa0-fea8-e4fef8badc30"
      },
      "source": [
        "! echo $PYTHONPATH\n",
        "\n",
        "import os\n",
        "os.environ['PYTHONPATH'] += \":/content/AIProg\"\n",
        "\n",
        "! echo $PYTHONPATH\n",
        "! pip install colorama\n",
        "\n",
        "\n",
        "wo"
      ],
      "execution_count": 43,
      "outputs": [
        {
          "output_type": "stream",
          "text": [
            "/env/python:/content/AIProg/Project3:/content/AIProg/Project3:/content/AIProg/Project3:/content/AIProg\n",
            "/env/python:/content/AIProg/Project3:/content/AIProg/Project3:/content/AIProg/Project3:/content/AIProg:/content/AIProg\n",
            "Collecting colorama\n",
            "  Downloading https://files.pythonhosted.org/packages/c9/dc/45cdef1b4d119eb96316b3117e6d5708a08029992b2fee2c143c7a0a5cc5/colorama-0.4.3-py2.py3-none-any.whl\n",
            "Installing collected packages: colorama\n",
            "Successfully installed colorama-0.4.3\n",
            "2020-04-20 21:58:01.831718: I tensorflow/stream_executor/platform/default/dso_loader.cc:44] Successfully opened dynamic library libcudart.so.10.1\n",
            "Traceback (most recent call last):\n",
            "  File \"AIProg/Project3/main.py\", line 1, in <module>\n",
            "    from Project3.GameMaster import GameMaster\n",
            "  File \"/content/AIProg/Project3/GameMaster.py\", line 5, in <module>\n",
            "    from Project3.Visualizer import Visualizer\n",
            "  File \"/content/AIProg/Project3/Visualizer.py\", line 8, in <module>\n",
            "    matplotlib.use(\"TkAgg\")\n",
            "  File \"/usr/local/lib/python3.6/dist-packages/matplotlib/cbook/deprecation.py\", line 296, in wrapper\n",
            "    return func(*args, **kwargs)\n",
            "  File \"/usr/local/lib/python3.6/dist-packages/matplotlib/cbook/deprecation.py\", line 358, in wrapper\n",
            "    return func(*args, **kwargs)\n",
            "  File \"/usr/local/lib/python3.6/dist-packages/matplotlib/__init__.py\", line 1281, in use\n",
            "    plt.switch_backend(name)\n",
            "  File \"/usr/local/lib/python3.6/dist-packages/matplotlib/pyplot.py\", line 237, in switch_backend\n",
            "    newbackend, required_framework, current_framework))\n",
            "ImportError: Cannot load backend 'TkAgg' which requires the 'tk' interactive framework, as 'headless' is currently running\n"
          ],
          "name": "stdout"
        }
      ]
    },
    {
      "cell_type": "code",
      "metadata": {
        "id": "Q7HGbAboivI_",
        "colab_type": "code",
        "colab": {}
      },
      "source": [
        "!python AIProg/Project3/main.py"
      ],
      "execution_count": 0,
      "outputs": []
    },
    {
      "cell_type": "code",
      "metadata": {
        "id": "4phdzMLkitGM",
        "colab_type": "code",
        "colab": {
          "base_uri": "https://localhost:8080/",
          "height": 68
        },
        "outputId": "982c886d-578c-4639-d049-fc6fa60f6ce3"
      },
      "source": [
        "!pwd\n",
        "%cd AIProg\n",
        "!pwd\n",
        "#git pull\n"
      ],
      "execution_count": 49,
      "outputs": [
        {
          "output_type": "stream",
          "text": [
            "/content\n",
            "/content/AIProg\n",
            "/content/AIProg\n"
          ],
          "name": "stdout"
        }
      ]
    },
    {
      "cell_type": "code",
      "metadata": {
        "id": "rqeJyoALhkH4",
        "colab_type": "code",
        "colab": {}
      },
      "source": [
        ""
      ],
      "execution_count": 0,
      "outputs": []
    },
    {
      "cell_type": "code",
      "metadata": {
        "id": "oJeEYwaNhiz4",
        "colab_type": "code",
        "colab": {}
      },
      "source": [
        ""
      ],
      "execution_count": 0,
      "outputs": []
    },
    {
      "cell_type": "code",
      "metadata": {
        "id": "7AQ31wFUgw7-",
        "colab_type": "code",
        "colab": {}
      },
      "source": [
        ""
      ],
      "execution_count": 0,
      "outputs": []
    },
    {
      "cell_type": "code",
      "metadata": {
        "id": "HPoCVRJYgv0G",
        "colab_type": "code",
        "colab": {}
      },
      "source": [
        ""
      ],
      "execution_count": 0,
      "outputs": []
    }
  ]
}