{
  "nbformat": 4,
  "nbformat_minor": 0,
  "metadata": {
    "colab": {
      "name": "AIPPROG2020.ipynb",
      "provenance": [],
      "authorship_tag": "ABX9TyPNFAvFNcqVJcUfTdnkgv9i",
      "include_colab_link": true
    },
    "kernelspec": {
      "name": "python3",
      "display_name": "Python 3"
    },
    "accelerator": "GPU"
  },
  "cells": [
    {
      "cell_type": "markdown",
      "metadata": {
        "id": "view-in-github",
        "colab_type": "text"
      },
      "source": [
        "<a href=\"https://colab.research.google.com/github/BrynjarGlims/Master2020/blob/master/AIPPROG2020.ipynb\" target=\"_parent\"><img src=\"https://colab.research.google.com/assets/colab-badge.svg\" alt=\"Open In Colab\"/></a>"
      ]
    },
    {
      "cell_type": "code",
      "metadata": {
        "id": "2ycNfdnRZwM8",
        "colab_type": "code",
        "outputId": "79573d8c-0571-4ba2-a11f-95f8ffa45032",
        "colab": {
          "base_uri": "https://localhost:8080/",
          "height": 170
        }
      },
      "source": [
        "#Imports:\n",
        "from getpass import getpass\n",
        "import os\n",
        "\n",
        "# Step 1. Clone github project. Insert Username and Password after running this command line\n",
        "user = getpass(\"Username: \")\n",
        "password = getpass(\"Password: \")\n",
        "os.environ['USER_AUTH'] = user + ':' + password\n",
        "\n",
        "#Clone project using unix. ! starts an unix statement\n",
        "!git clone https://$USER_AUTH@github.com/Petter22/AIProg.git\n"
      ],
      "execution_count": 2,
      "outputs": [
        {
          "output_type": "stream",
          "text": [
            "Username: ··········\n",
            "Password: ··········\n",
            "Cloning into 'AIProg'...\n",
            "remote: Enumerating objects: 378, done.\u001b[K\n",
            "remote: Counting objects: 100% (378/378), done.\u001b[K\n",
            "remote: Compressing objects: 100% (221/221), done.\u001b[K\n",
            "remote: Total 1256 (delta 256), reused 260 (delta 139), pack-reused 878\u001b[K\n",
            "Receiving objects: 100% (1256/1256), 3.85 MiB | 2.45 MiB/s, done.\n",
            "Resolving deltas: 100% (891/891), done.\n"
          ],
          "name": "stdout"
        }
      ]
    },
    {
      "cell_type": "code",
      "metadata": {
        "id": "75ZwkFGTaDVq",
        "colab_type": "code",
        "outputId": "0dce43cb-0bfd-46d0-bfe1-62dfc17294b8",
        "colab": {
          "base_uri": "https://localhost:8080/",
          "height": 119
        }
      },
      "source": [
        "\n",
        "# Step 2. Change python path \n",
        "! echo $PYTHONPATH\n",
        "\n",
        "import os\n",
        "os.environ['PYTHONPATH'] = \"/env/python:/content/AIProg\"\n",
        "\n",
        "! echo $PYTHONPATH\n",
        "\n",
        "\n",
        "# Step 3. Install nessesary programs\n",
        "! pip install colorama\n",
        "\n",
        "\n",
        "\n"
      ],
      "execution_count": 3,
      "outputs": [
        {
          "output_type": "stream",
          "text": [
            "/env/python\n",
            "/env/python:/content/AIProg\n",
            "Collecting colorama\n",
            "  Downloading https://files.pythonhosted.org/packages/c9/dc/45cdef1b4d119eb96316b3117e6d5708a08029992b2fee2c143c7a0a5cc5/colorama-0.4.3-py2.py3-none-any.whl\n",
            "Installing collected packages: colorama\n",
            "Successfully installed colorama-0.4.3\n"
          ],
          "name": "stdout"
        }
      ]
    },
    {
      "cell_type": "code",
      "metadata": {
        "id": "4phdzMLkitGM",
        "colab_type": "code",
        "outputId": "988164f5-5b9d-41ba-bd95-63e5eaf30bf4",
        "colab": {
          "base_uri": "https://localhost:8080/",
          "height": 68
        }
      },
      "source": [
        "# Step 4. Change working directory to AIProg\n",
        "\n",
        "!pwd\n",
        "%cd AIProg\n",
        "!pwd\n",
        "\n"
      ],
      "execution_count": 4,
      "outputs": [
        {
          "output_type": "stream",
          "text": [
            "/content\n",
            "/content/AIProg\n",
            "/content/AIProg\n"
          ],
          "name": "stdout"
        }
      ]
    },
    {
      "cell_type": "code",
      "metadata": {
        "id": "rqeJyoALhkH4",
        "colab_type": "code",
        "colab": {
          "base_uri": "https://localhost:8080/",
          "height": 34
        },
        "outputId": "f958347d-15da-43bb-a15e-1965484dff31"
      },
      "source": [
        "# Step 5: Check for updates\n",
        "\n",
        "!git pull"
      ],
      "execution_count": 5,
      "outputs": [
        {
          "output_type": "stream",
          "text": [
            "Already up to date.\n"
          ],
          "name": "stdout"
        }
      ]
    },
    {
      "cell_type": "code",
      "metadata": {
        "id": "oJeEYwaNhiz4",
        "colab_type": "code",
        "colab": {
          "base_uri": "https://localhost:8080/",
          "height": 1000
        },
        "outputId": "9b043163-4b85-44c8-c951-ac725127158f"
      },
      "source": [
        "# Step 6: Run file\n",
        "\n",
        "!python Project3/main.py"
      ],
      "execution_count": 6,
      "outputs": [
        {
          "output_type": "stream",
          "text": [
            "2020-04-20 22:21:34.543080: I tensorflow/stream_executor/platform/default/dso_loader.cc:44] Successfully opened dynamic library libcudart.so.10.1\n",
            "/usr/local/lib/python3.6/dist-packages/statsmodels/tools/_testing.py:19: FutureWarning: pandas.util.testing is deprecated. Use the functions in the public API at pandas.testing instead.\n",
            "  import pandas.util.testing as tm\n",
            "2020-04-20 22:21:36.663099: I tensorflow/stream_executor/platform/default/dso_loader.cc:44] Successfully opened dynamic library libcuda.so.1\n",
            "2020-04-20 22:21:36.691770: E tensorflow/stream_executor/cuda/cuda_driver.cc:313] failed call to cuInit: CUDA_ERROR_NO_DEVICE: no CUDA-capable device is detected\n",
            "2020-04-20 22:21:36.691815: I tensorflow/stream_executor/cuda/cuda_diagnostics.cc:169] retrieving CUDA diagnostic information for host: 0c1dce85b268\n",
            "2020-04-20 22:21:36.691829: I tensorflow/stream_executor/cuda/cuda_diagnostics.cc:176] hostname: 0c1dce85b268\n",
            "2020-04-20 22:21:36.691990: I tensorflow/stream_executor/cuda/cuda_diagnostics.cc:200] libcuda reported version is: 418.67.0\n",
            "2020-04-20 22:21:36.692032: I tensorflow/stream_executor/cuda/cuda_diagnostics.cc:204] kernel reported version is: 418.67.0\n",
            "2020-04-20 22:21:36.692042: I tensorflow/stream_executor/cuda/cuda_diagnostics.cc:310] kernel version seems to match DSO: 418.67.0\n",
            "2020-04-20 22:21:36.713338: I tensorflow/core/platform/profile_utils/cpu_utils.cc:102] CPU Frequency: 2200000000 Hz\n",
            "2020-04-20 22:21:36.713515: I tensorflow/compiler/xla/service/service.cc:168] XLA service 0x29032c0 initialized for platform Host (this does not guarantee that XLA will be used). Devices:\n",
            "2020-04-20 22:21:36.713543: I tensorflow/compiler/xla/service/service.cc:176]   StreamExecutor device (0): Host, Default Version\n",
            "Model: \"network\"\n",
            "__________________________________________________________________________________________________\n",
            "Layer (type)                    Output Shape         Param #     Connected to                     \n",
            "==================================================================================================\n",
            "input_layer (InputLayer)        [(None, 20)]         0                                            \n",
            "__________________________________________________________________________________________________\n",
            "hidden_layer_1 (Dense)          (None, 100)          2100        input_layer[0][0]                \n",
            "__________________________________________________________________________________________________\n",
            "dropout (Dropout)               (None, 100)          0           hidden_layer_1[0][0]             \n",
            "__________________________________________________________________________________________________\n",
            "hidden_layer_3 (Dense)          (None, 100)          10100       dropout[0][0]                    \n",
            "__________________________________________________________________________________________________\n",
            "dropout_1 (Dropout)             (None, 100)          0           hidden_layer_3[0][0]             \n",
            "__________________________________________________________________________________________________\n",
            "output_layer_dist (Dense)       (None, 9)            909         dropout_1[0][0]                  \n",
            "__________________________________________________________________________________________________\n",
            "output_layer_value (Dense)      (None, 1)            101         dropout_1[0][0]                  \n",
            "==================================================================================================\n",
            "Total params: 13,210\n",
            "Trainable params: 13,210\n",
            "Non-trainable params: 0\n",
            "__________________________________________________________________________________________________\n",
            "\n",
            "2020-04-20 22:21:36.880255: I tensorflow/core/grappler/devices.cc:55] Number of eligible GPUs (core count >= 8, compute capability >= 0.0): 0\n",
            "2020-04-20 22:21:36.880409: I tensorflow/core/grappler/clusters/single_machine.cc:356] Starting new session\n",
            "2020-04-20 22:21:36.889592: I tensorflow/core/grappler/optimizers/meta_optimizer.cc:797] Optimization results for grappler item: graph_to_optimize\n",
            "2020-04-20 22:21:36.889621: I tensorflow/core/grappler/optimizers/meta_optimizer.cc:799]   function_optimizer: function_optimizer did nothing. time = 0.103ms.\n",
            "2020-04-20 22:21:36.889634: I tensorflow/core/grappler/optimizers/meta_optimizer.cc:799]   function_optimizer: function_optimizer did nothing. time = 0.001ms.\n",
            "2020-04-20 22:21:36.916849: I tensorflow/core/grappler/devices.cc:55] Number of eligible GPUs (core count >= 8, compute capability >= 0.0): 0\n",
            "2020-04-20 22:21:36.916979: I tensorflow/core/grappler/clusters/single_machine.cc:356] Starting new session\n",
            "2020-04-20 22:21:36.930474: I tensorflow/core/grappler/optimizers/meta_optimizer.cc:797] Optimization results for grappler item: graph_to_optimize\n",
            "2020-04-20 22:21:36.930503: I tensorflow/core/grappler/optimizers/meta_optimizer.cc:799]   constant_folding: Graph size after: 25 nodes (-8), 24 edges (-8), time = 7.53ms.\n",
            "2020-04-20 22:21:36.930519: I tensorflow/core/grappler/optimizers/meta_optimizer.cc:799]   constant_folding: Graph size after: 25 nodes (0), 24 edges (0), time = 0.289ms.\n",
            "  0% 0/50 [00:00<?, ?it/s]\n",
            "Traceback (most recent call last):\n",
            "  File \"Project3/main.py\", line 12, in <module>\n",
            "    game_master.perform_monte_carlo_tree_search()\n",
            "  File \"/content/AIProg/Project3/GameMaster.py\", line 28, in perform_monte_carlo_tree_search\n",
            "    self.MCTS.play_games()\n",
            "  File \"/content/AIProg/Project3/MonteCarloTreeSearch.py\", line 47, in play_games\n",
            "    winning_player = self.run_episode()\n",
            "  File \"/content/AIProg/Project3/MonteCarloTreeSearch.py\", line 93, in run_episode\n",
            "    action = self.monte_carlo_tree_search()  # Get best action from UCT search\n",
            "  File \"/content/AIProg/Project3/MonteCarloTreeSearch.py\", line 120, in monte_carlo_tree_search\n",
            "    return self.UCT_Search(self.current_actual_state, self.current_actual_player)\n",
            "  File \"/content/AIProg/Project3/MonteCarloTreeSearch.py\", line 125, in UCT_Search\n",
            "    self.simulate(root_node, current_player)\n",
            "  File \"/content/AIProg/Project3/MonteCarloTreeSearch.py\", line 135, in simulate\n",
            "    winning_player = self.leaf_evaluation()\n",
            "  File \"/content/AIProg/Project3/MonteCarloTreeSearch.py\", line 180, in leaf_evaluation\n",
            "    move = self.default_policy()\n",
            "  File \"/content/AIProg/Project3/MonteCarloTreeSearch.py\", line 218, in default_policy\n",
            "    move = self.target_policy.get_move(self.sim_world.get_current_state(), self.sim_world.get_current_player(), legal_moves)\n",
            "  File \"/content/AIProg/Project3/TargetPolicy.py\", line 54, in get_move\n",
            "    return self.get_greedy_move(state, player, legal_moves, print_distribution)\n",
            "  File \"/content/AIProg/Project3/TargetPolicy.py\", line 60, in get_greedy_move\n",
            "    distribution, value = self.network.predict_single(Converter.get_features_from_state(state, player))\n",
            "  File \"/content/AIProg/Project3/Network.py\", line 76, in predict_single\n",
            "    return dist[0], value[0][0]\n",
            "IndexError: invalid index to scalar variable.\n"
          ],
          "name": "stdout"
        }
      ]
    },
    {
      "cell_type": "code",
      "metadata": {
        "id": "7AQ31wFUgw7-",
        "colab_type": "code",
        "colab": {}
      },
      "source": [
        ""
      ],
      "execution_count": 0,
      "outputs": []
    },
    {
      "cell_type": "code",
      "metadata": {
        "id": "HPoCVRJYgv0G",
        "colab_type": "code",
        "colab": {}
      },
      "source": [
        ""
      ],
      "execution_count": 0,
      "outputs": []
    }
  ]
}