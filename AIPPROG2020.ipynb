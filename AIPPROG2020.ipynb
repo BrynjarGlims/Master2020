{
  "nbformat": 4,
  "nbformat_minor": 0,
  "metadata": {
    "colab": {
      "name": "AIPPROG2020.ipynb",
      "provenance": [],
      "authorship_tag": "ABX9TyNKbLtMd0V0+Hx9fg1EzBaV",
      "include_colab_link": true
    },
    "kernelspec": {
      "name": "python3",
      "display_name": "Python 3"
    },
    "accelerator": "GPU"
  },
  "cells": [
    {
      "cell_type": "markdown",
      "metadata": {
        "id": "view-in-github",
        "colab_type": "text"
      },
      "source": [
        "<a href=\"https://colab.research.google.com/github/BrynjarGlims/Master2020/blob/master/AIPPROG2020.ipynb\" target=\"_parent\"><img src=\"https://colab.research.google.com/assets/colab-badge.svg\" alt=\"Open In Colab\"/></a>"
      ]
    },
    {
      "cell_type": "code",
      "metadata": {
        "id": "2ycNfdnRZwM8",
        "colab_type": "code",
        "colab": {
          "base_uri": "https://localhost:8080/",
          "height": 51
        },
        "outputId": "6cccb0e3-24eb-41f1-e1cd-84e9106c1a85"
      },
      "source": [
        "# 1. insert user name\n",
        "!git config --global user.name \"LarsTv\"\n",
        "!git config --global user.email \"lars-tvinnereim@hotmail.com\"\n",
        "\n",
        "# 2. Set runtime to GPU\n",
        "\n",
        "# 3. Clone git project\n",
        "!git clone https://github.com/Petter22/AIProg.git"
      ],
      "execution_count": 3,
      "outputs": [
        {
          "output_type": "stream",
          "text": [
            "Cloning into 'AIProg'...\n",
            "fatal: could not read Username for 'https://github.com': No such device or address\n"
          ],
          "name": "stdout"
        }
      ]
    },
    {
      "cell_type": "code",
      "metadata": {
        "id": "75ZwkFGTaDVq",
        "colab_type": "code",
        "colab": {
          "base_uri": "https://localhost:8080/",
          "height": 34
        },
        "outputId": "86dcccff-cdd7-4506-9d54-b3da95aaed5d"
      },
      "source": [
        "!git help credantials"
      ],
      "execution_count": 5,
      "outputs": [
        {
          "output_type": "stream",
          "text": [
            "No manual entry for gitcredantials\n"
          ],
          "name": "stdout"
        }
      ]
    }
  ]
}